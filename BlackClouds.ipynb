{
 "cells": [
  {
   "cell_type": "code",
   "execution_count": 48,
   "metadata": {
    "collapsed": false
   },
   "outputs": [
    {
     "name": "stderr",
     "output_type": "stream",
     "text": [
      "//anaconda/lib/python2.7/site-packages/matplotlib/font_manager.py:273: UserWarning: Matplotlib is building the font cache using fc-list. This may take a moment.\n",
      "  warnings.warn('Matplotlib is building the font cache using fc-list. This may take a moment.')\n"
     ]
    }
   ],
   "source": [
    "#Notebook with order of magnitude calculations from Black Clouds paper\n",
    "#Darryl Seligman v1.0 May 15 2018\n",
    "\n",
    "import numpy as np\n",
    "import matplotlib.pyplot as plt\n",
    "%matplotlib inline  "
   ]
  },
  {
   "cell_type": "code",
   "execution_count": 49,
   "metadata": {
    "collapsed": false
   },
   "outputs": [
    {
     "name": "stdout",
     "output_type": "stream",
     "text": [
      "The Efficiency of the LINPACK computer is\n",
      "60784.3137255 bit operations per erg\n",
      "The Efficiency of the DragonMint miner is\n",
      "2666666.66667 bit operations per erg =  43.8709677419 times LINPACK epsilon\n"
     ]
    }
   ],
   "source": [
    "#Section II Artificial vs Biological Computation\n",
    "#Computational Efficiencies\n",
    "\n",
    "#LINPACK performance\n",
    "supercomp_perf = 9.3e16 # floating point operations per second\n",
    "supercomp_consumption = 15.3e3 # kiloWatts\n",
    "supercomp_consumption = supercomp_consumption*1.e3\n",
    "supercomp_consumption_ergs =  supercomp_consumption *1.e7 # convert 1 Joule to 1e7 ergs\n",
    "\n",
    "#conversion\n",
    "floptobop = 1e2\n",
    "eff_flop = supercomp_perf / supercomp_consumption_ergs # flop / second / (erg/second) - > flop/erg\n",
    "eff_bop = eff_flop* floptobop\n",
    "\n",
    "\n",
    "print \"The Efficiency of the LINPACK computer is\"\n",
    "print eff_bop, \"bit operations per erg\"\n",
    "\n",
    "#Bitcoin efficiency\n",
    "\n",
    "eff_bop_bitcoin = 2.e3/7.5e-4 #\n",
    "print \"The Efficiency of the DragonMint miner is\"\n",
    "print eff_bop_bitcoin, \"bit operations per erg = \", eff_bop_bitcoin/eff_bop , \"times LINPACK epsilon\"\n",
    "\n"
   ]
  },
  {
   "cell_type": "code",
   "execution_count": 50,
   "metadata": {
    "collapsed": false
   },
   "outputs": [
    {
     "name": "stdout",
     "output_type": "stream",
     "text": [
      "The Earth is carrying out 3.73333333333e+31 Artificial bit operations per year\n",
      "Which means that there are 1.96584562282 moles of bit operations per second\n",
      "We can then calculate that the artificial computation is currently using the equivalent of the solar energy falling on\n",
      "111.09536731 km^2\n",
      "Computaton is using 2.17916446786e-07 of the Earth's insolation energy budget\n",
      "The Earth carries out  6253.48967058 bit operations per year per gram of material\n"
     ]
    }
   ],
   "source": [
    "#Section II Artificial vs Biological Computation\n",
    "#World Consumption\n",
    "fdc = .02 # percentacge of yearly global electrical energy used by WDC\n",
    "Ee = 7.e26 #erg per year - energy recieved by sun\n",
    "\n",
    "consumption = fdc*Ee # erg per year\n",
    "#using the conversion calculated in last cell -- eff_bop_bitcoin is the bit operations per erg\n",
    "\n",
    "#using nomenclature of manuscript Bplus is bop per year\n",
    "Bplus = consumption*eff_bop_bitcoin\n",
    "print \"The Earth is carrying out\", Bplus, \"Artificial bit operations per year\"\n",
    "\n",
    "#convert to moles of bops per second\n",
    "NA = 6.022e23\n",
    "yeartosec = 365.*24.*60*60 # seconds / year\n",
    "\n",
    "Bplusmole = Bplus/NA/yeartosec\n",
    "print \"Which means that there are\", Bplusmole , \"moles of bit operations per second\"\n",
    "\n",
    "#estimate the fractional area of earth recieving sunlight that is going towards computation\n",
    "#albedo of the earth\n",
    "A = 0.3\n",
    "Lsun=3.848e26 #watts\n",
    "irradiance = 1332. *A#watts / m^2 Earth's Solar Irradiation with albedo assumed\n",
    "\n",
    "irr = irradiance*1e7 * yeartosec*1e3 *1e3 # units of ergs/year / km^2\n",
    "area_compEN =consumption/irr #energetic equivalent of energy area for irradiance\n",
    "print \"We can then calculate that the artificial computation is currently using the equivalent of the solar energy falling on\"\n",
    "print area_compEN, \"km^2\"\n",
    "\n",
    "Re = 6371.008 #km radius of earth\n",
    "SAE = (4.*3.14*Re*Re) # surface area of the earth in km^2\n",
    "CompInsolation =  area_compEN/SAE \n",
    "print \"Computaton is using\", CompInsolation, \"of the Earth's insolation energy budget\"\n",
    "\n",
    "#estimate the bit ops per gram of earth material\n",
    "EarthWeight = 5.97e27# units of grams\n",
    "boppergram =  Bplus/EarthWeight #bit operations per year per gram\n",
    "print \"The Earth carries out \", boppergram, \"bit operations per year per gram of material\""
   ]
  },
  {
   "cell_type": "code",
   "execution_count": 51,
   "metadata": {
    "collapsed": false
   },
   "outputs": [
    {
     "name": "stdout",
     "output_type": "stream",
     "text": [
      "biological computation rate of 1e+37 bit operations per year in the biosphere\n",
      "The efficiency of the biosphere computations is 31130920.9694 bit operations per erg\n",
      "which is 11.6740953635 times the efficiency of the present day computational efficiency from cryptocurrency\n"
     ]
    }
   ],
   "source": [
    "##Section II Artificial vs Biological Computation\n",
    "#In this cell, we exmaine the efficiency of the biosphere and compare to bit coin mining\n",
    "\n",
    "molecular_tran = 10 #bit operations in a molecular transcription\n",
    "mcell =1.e-9 # mass of cell in grams\n",
    "biomass_prod = 1.e18 # grams/ year yearly wet biomass production\n",
    "cell_to_tran = 1.e9 #number of base pairs copied in a cell division\n",
    "\n",
    "biobop_year =  biomass_prod/mcell*cell_to_tran*molecular_tran #bit operations per year in biosphere\n",
    "print \"biological computation rate of\", biobop_year, \"bit operations per year in the biosphere\"\n",
    "\n",
    "photo_eff = 0.05# photosynthetic efficiency of incident radiation\n",
    "fp = 0.1 #fraction of earths surface covered by photosynthetic organisms\n",
    "\n",
    "#using the variable irr - irradiance on earth units of ergs/year / km^2\n",
    "bio_consump = irr*SAE*photo_eff*fp #units of ergs/year energy used by biomass\n",
    "\n",
    "eff_bop_bio = biobop_year/bio_consump\n",
    "print \"The efficiency of the biosphere computations is\", eff_bop_bio, \"bit operations per erg\"\n",
    "print \"which is\", eff_bop_bio/eff_bop_bitcoin, \"times the efficiency of the present day computational efficiency from cryptocurrency\""
   ]
  },
  {
   "cell_type": "code",
   "execution_count": 59,
   "metadata": {
    "collapsed": false
   },
   "outputs": [
    {
     "name": "stdout",
     "output_type": "stream",
     "text": [
      "the maximum possible efficiency is 3.48313002544e+13 bit operations per erg\n",
      "computations are operating at  7.65594923872e-08 times maximum efficiency\n",
      "biosphere is operating at  8.9376281511e-07 times maximum efficiency\n"
     ]
    }
   ],
   "source": [
    "#Landuar Limit\n",
    "kb = 1.38065e-16 #erg/K\n",
    "T = 300# kelvin\n",
    "Ebit_min = np.log(2.)*kb*T\n",
    "eff_max =  1./Ebit_min\n",
    "print \"the maximum possible efficiency is\", eff_max, \"bit operations per erg\"\n",
    "\n",
    "print \"computations are operating at \", eff_bop_bitcoin/eff_max, \"times maximum efficiency\"\n",
    "print \"biosphere is operating at \", eff_bop_bio/eff_max, \"times maximum efficiency\""
   ]
  },
  {
   "cell_type": "code",
   "execution_count": null,
   "metadata": {
    "collapsed": true
   },
   "outputs": [],
   "source": []
  }
 ],
 "metadata": {
  "kernelspec": {
   "display_name": "Python 2",
   "language": "python",
   "name": "python2"
  },
  "language_info": {
   "codemirror_mode": {
    "name": "ipython",
    "version": 2
   },
   "file_extension": ".py",
   "mimetype": "text/x-python",
   "name": "python",
   "nbconvert_exporter": "python",
   "pygments_lexer": "ipython2",
   "version": "2.7.11"
  }
 },
 "nbformat": 4,
 "nbformat_minor": 0
}
