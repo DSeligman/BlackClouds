{
 "cells": [
  {
   "cell_type": "code",
   "execution_count": 1,
   "metadata": {
    "collapsed": false
   },
   "outputs": [
    {
     "name": "stderr",
     "output_type": "stream",
     "text": [
      "//anaconda/lib/python2.7/site-packages/matplotlib/font_manager.py:273: UserWarning: Matplotlib is building the font cache using fc-list. This may take a moment.\n",
      "  warnings.warn('Matplotlib is building the font cache using fc-list. This may take a moment.')\n"
     ]
    }
   ],
   "source": [
    "#Notebook with order of magnitude calculations from Black Clouds paper\n",
    "#Darryl Seligman v1.0 May 15 2018\n",
    "\n",
    "import numpy as np\n",
    "import matplotlib.pyplot as plt\n",
    "%matplotlib inline  "
   ]
  },
  {
   "cell_type": "code",
   "execution_count": 10,
   "metadata": {
    "collapsed": false
   },
   "outputs": [
    {
     "name": "stdout",
     "output_type": "stream",
     "text": [
      "The Efficiency of the LINPACK computer is\n",
      "60784313.7255 bit operations per erg\n"
     ]
    }
   ],
   "source": [
    "#Section II Artificial vs Biological Computation\n",
    "#Computational Efficiencies\n",
    "\n",
    "#LINPACK performance\n",
    "supercomp_perf = 9.3e16 # floating point operations per second\n",
    "supercomp_consumption = 15.3e3 # Watts\n",
    "supercomp_consumption_ergs =  supercomp_consumption *1.e7 # convert 1 Joule to 1e7 ergs\n",
    "\n",
    "#conversion\n",
    "floptobop = 1e2\n",
    "eff_flop = supercomp_perf / supercomp_consumption_ergs # flop / second / (erg/second) - > flop/erg\n",
    "eff_bop = eff_flop* floptobop\n",
    "\n",
    "\n",
    "print \"The Efficiency of the LINPACK computer is\"\n",
    "print eff_bop, \"bit operations per erg\""
   ]
  },
  {
   "cell_type": "code",
   "execution_count": null,
   "metadata": {
    "collapsed": true
   },
   "outputs": [],
   "source": []
  }
 ],
 "metadata": {
  "kernelspec": {
   "display_name": "Python 2",
   "language": "python",
   "name": "python2"
  },
  "language_info": {
   "codemirror_mode": {
    "name": "ipython",
    "version": 2
   },
   "file_extension": ".py",
   "mimetype": "text/x-python",
   "name": "python",
   "nbconvert_exporter": "python",
   "pygments_lexer": "ipython2",
   "version": "2.7.11"
  }
 },
 "nbformat": 4,
 "nbformat_minor": 0
}
