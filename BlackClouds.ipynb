{
 "cells": [
  {
   "cell_type": "code",
   "execution_count": 1,
   "metadata": {
    "collapsed": false
   },
   "outputs": [
    {
     "name": "stderr",
     "output_type": "stream",
     "text": [
      "//anaconda/lib/python2.7/site-packages/matplotlib/font_manager.py:273: UserWarning: Matplotlib is building the font cache using fc-list. This may take a moment.\n",
      "  warnings.warn('Matplotlib is building the font cache using fc-list. This may take a moment.')\n"
     ]
    }
   ],
   "source": [
    "#Notebook with order of magnitude calculations from Black Clouds paper\n",
    "#Darryl Seligman v1.0 May 15 2018\n",
    "\n",
    "import numpy as np\n",
    "import matplotlib.pyplot as plt\n",
    "%matplotlib inline  "
   ]
  },
  {
   "cell_type": "code",
   "execution_count": 2,
   "metadata": {
    "collapsed": false
   },
   "outputs": [
    {
     "name": "stdout",
     "output_type": "stream",
     "text": [
      "The Efficiency of the LINPACK computer is\n",
      "60784.3137255 bit operations per erg\n",
      "The Efficiency of the DragonMint miner is\n",
      "2666666.66667 bit operations per erg =  43.8709677419 times LINPACK epsilon\n"
     ]
    }
   ],
   "source": [
    "#Section II Artificial vs Biological Computation\n",
    "#Computational Efficiencies\n",
    "\n",
    "#LINPACK performance\n",
    "supercomp_perf = 9.3e16 # floating point operations per second\n",
    "supercomp_consumption = 15.3e3 # kiloWatts\n",
    "supercomp_consumption = supercomp_consumption*1.e3\n",
    "supercomp_consumption_ergs =  supercomp_consumption *1.e7 # convert 1 Joule to 1e7 ergs\n",
    "\n",
    "#conversion\n",
    "floptobop = 1e2\n",
    "eff_flop = supercomp_perf / supercomp_consumption_ergs # flop / second / (erg/second) - > flop/erg\n",
    "eff_bop = eff_flop* floptobop\n",
    "\n",
    "\n",
    "print \"The Efficiency of the LINPACK computer is\"\n",
    "print eff_bop, \"bit operations per erg\"\n",
    "\n",
    "#Bitcoin efficiency\n",
    "\n",
    "eff_bop_bitcoin = 2.e3/7.5e-4 #\n",
    "print \"The Efficiency of the DragonMint miner is\"\n",
    "print eff_bop_bitcoin, \"bit operations per erg = \", eff_bop_bitcoin/eff_bop , \"times LINPACK epsilon\"\n",
    "\n"
   ]
  },
  {
   "cell_type": "code",
   "execution_count": 23,
   "metadata": {
    "collapsed": false
   },
   "outputs": [
    {
     "name": "stdout",
     "output_type": "stream",
     "text": [
      "The Earth is carrying out 3.73333333333e+31 Artificial bit operations per year\n",
      "Which means that there are 1.96584562282 moles of bit operations per second\n",
      "111.09536731\n"
     ]
    }
   ],
   "source": [
    "#Section II Artificial vs Biological Computation\n",
    "#World Consumption\n",
    "fdc = .02 # percentacge of yearly global electrical energy used by WDC\n",
    "Ee = 7.e26 #erg per year - energy recieved by sun\n",
    "\n",
    "consumption = fdc*Ee # erg per year\n",
    "#using the conversion calculated in last cell -- eff_bop_bitcoin is the bit operations per erg\n",
    "\n",
    "#using nomenclature of manuscript Bplus is bop per year\n",
    "Bplus = consumption*eff_bop_bitcoin\n",
    "print \"The Earth is carrying out\", Bplus, \"Artificial bit operations per year\"\n",
    "\n",
    "#convert to moles of bops per second\n",
    "NA = 6.022e23\n",
    "yeartosec = 365.*24.*60*60 # seconds / year\n",
    "\n",
    "Bplusmole = Bplus/NA/yeartosec\n",
    "print \"Which means that there are\", Bplusmole , \"moles of bit operations per second\"\n",
    "\n",
    "#estimate the fractional area of earth recieving sunlight that is going towards computation\n",
    "#albedo of the earth\n",
    "A = 0.3\n",
    "Lsun=3.848e26 #watts\n",
    "irradiance = 1332. *A#watts / m^2 Earth's Solar Irradiation with albedo assumed\n",
    "\n",
    "irr = irradiance*1e7 * yeartosec*1e3 *1e3 # units of ergs/year / km^2\n",
    "\n",
    "print \"We can then calculate that the artific\" consumption/irr"
   ]
  },
  {
   "cell_type": "code",
   "execution_count": null,
   "metadata": {
    "collapsed": true
   },
   "outputs": [],
   "source": []
  }
 ],
 "metadata": {
  "kernelspec": {
   "display_name": "Python 2",
   "language": "python",
   "name": "python2"
  },
  "language_info": {
   "codemirror_mode": {
    "name": "ipython",
    "version": 2
   },
   "file_extension": ".py",
   "mimetype": "text/x-python",
   "name": "python",
   "nbconvert_exporter": "python",
   "pygments_lexer": "ipython2",
   "version": "2.7.11"
  }
 },
 "nbformat": 4,
 "nbformat_minor": 0
}
